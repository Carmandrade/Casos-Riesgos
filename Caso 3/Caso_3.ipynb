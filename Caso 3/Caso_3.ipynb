{
  "nbformat": 4,
  "nbformat_minor": 0,
  "metadata": {
    "colab": {
      "provenance": [],
      "toc_visible": true
    },
    "kernelspec": {
      "name": "python3",
      "display_name": "Python 3"
    },
    "language_info": {
      "name": "python"
    }
  },
  "cells": [
    {
      "cell_type": "markdown",
      "source": [
        "# Caso 3\n",
        "\n",
        "1. Un portafolio de inversión consiste de 1 millón de dólares de facial colocados en la nota\n",
        "del tesoro con CUSIP 91282CGU9 y de 1.5 millones en la nota con CUSIP 91282CGS4.\n",
        "La descripción de los instrumentos se brinda en los documentos adjuntos. Note que\n",
        "las notas del tesoro pagan intereses semestralmente. Suponga que la fecha de análisis\n",
        "es el día de la emisión de los instrumentos, o sea el 31 de marzo de 2023.\n",
        "Se adjunta, además, un histórico de curvas de rendimiento cero cupón calculadas por\n",
        "el Banco de la Reserva Federal.\n",
        "\n"
      ],
      "metadata": {
        "id": "5wenV4zpIqDD"
      }
    },
    {
      "cell_type": "code",
      "source": [
        "!pip install openpyxl\n",
        "!pip install QuantLib-Python"
      ],
      "metadata": {
        "colab": {
          "base_uri": "https://localhost:8080/"
        },
        "id": "kwZauNA4MErE",
        "outputId": "6ece8e37-aec7-4b0d-b226-6c5217e17402"
      },
      "execution_count": 237,
      "outputs": [
        {
          "output_type": "stream",
          "name": "stdout",
          "text": [
            "Requirement already satisfied: openpyxl in /usr/local/lib/python3.10/dist-packages (3.1.5)\n",
            "Requirement already satisfied: et-xmlfile in /usr/local/lib/python3.10/dist-packages (from openpyxl) (1.1.0)\n",
            "Requirement already satisfied: QuantLib-Python in /usr/local/lib/python3.10/dist-packages (1.18)\n",
            "Requirement already satisfied: QuantLib in /usr/local/lib/python3.10/dist-packages (from QuantLib-Python) (1.35)\n"
          ]
        }
      ]
    },
    {
      "cell_type": "code",
      "source": [
        "# Carga de librerías\n",
        "import pandas as pd\n",
        "import numpy as np\n",
        "from scipy import stats\n",
        "import QuantLib as ql\n",
        "import re"
      ],
      "metadata": {
        "id": "aCnmjpnPK2rG"
      },
      "execution_count": 238,
      "outputs": []
    },
    {
      "cell_type": "code",
      "source": [
        "# Carga de datos\n",
        "\n",
        "curvas_rendimientos = pd.read_excel('/content/CurvaActualizadaCaso3.xlsx')\n",
        "\n",
        "# Mostrar las primeras filas del DataFrame\n",
        "print(curvas_rendimientos.head())"
      ],
      "metadata": {
        "colab": {
          "base_uri": "https://localhost:8080/"
        },
        "id": "PPpdpUfULDfB",
        "outputId": "8537adbc-70de-47fe-d9af-0b7117906587"
      },
      "execution_count": 239,
      "outputs": [
        {
          "output_type": "stream",
          "name": "stdout",
          "text": [
            "        Date   plazo_1  plazo_30  plazo_90  plazo_180  plazo_360  plazo_720  \\\n",
            "0 2019-03-15  0.026136  0.026013  0.025775   0.025454   0.024933   0.024279   \n",
            "1 2019-03-18  0.025970  0.025867  0.025666   0.025395   0.024953   0.024398   \n",
            "2 2019-03-19  0.025896  0.025803  0.025622   0.025377   0.024974   0.024465   \n",
            "3 2019-03-20  0.026120  0.025973  0.025687   0.025301   0.024671   0.023867   \n",
            "4 2019-03-21  0.025953  0.025820  0.025561   0.025210   0.024634   0.023891   \n",
            "\n",
            "   plazo_1080  plazo_1800  plazo_2520  plazo_3600  \n",
            "0    0.024009    0.024164    0.024773    0.025913  \n",
            "1    0.024173    0.024336    0.024919    0.026020  \n",
            "2    0.024257    0.024418    0.024993    0.026101  \n",
            "3    0.023515    0.023625    0.024267    0.025492  \n",
            "4    0.023558    0.023652    0.024257    0.025431  \n"
          ]
        }
      ]
    },
    {
      "cell_type": "code",
      "source": [
        "# Variables globales\n",
        "\n",
        "delta = 0.0001\n",
        "\n",
        "periodicidad = 2\n",
        "# Tasas\n",
        "tasa_cupon_1 = 0.03875\n",
        "tasa_cupon_2 = 0.03625\n",
        "\n",
        "# Precios\n",
        "precio_1 = 99.849511\n",
        "precio_2 = 99.993866\n",
        "\n"
      ],
      "metadata": {
        "id": "m0BknG6Qwq_t"
      },
      "execution_count": 240,
      "outputs": []
    },
    {
      "cell_type": "code",
      "source": [
        "\n",
        "#Fechas\n",
        "fecha_emision = pd.to_datetime('2023-03-31')\n",
        "fecha_vencimiento = pd.to_datetime('2025-03-31')\n",
        "fecha_vencimiento_2 = pd.to_datetime('2030-03-31')\n"
      ],
      "metadata": {
        "id": "AmFxAgRFy-LD"
      },
      "execution_count": 241,
      "outputs": []
    },
    {
      "cell_type": "code",
      "source": [
        "fecha_calc_ql  = fecha_emision\n",
        "\n",
        "fecha_calc_ql = ql.Date(fecha_calc_ql.day, fecha_calc_ql.month, fecha_calc_ql.year)\n",
        "\n",
        "ql.Settings.instance().evaluationDate = fecha_calc_ql"
      ],
      "metadata": {
        "id": "zpq2CIFc2Rqf"
      },
      "execution_count": 242,
      "outputs": []
    },
    {
      "cell_type": "code",
      "source": [
        "qlCalendar = ql.BespokeCalendar('Costa Rica')\n",
        "qlCalendar.addWeekend(ql.Sunday)\n",
        "qlCalendar.addWeekend(ql.Saturday)\n",
        "\n",
        "for year in range(2023, 2031):\n",
        "    qlCalendar.addHoliday(ql.Date( 1, 1, year)) # Año Nuevo\n",
        "    qlCalendar.addHoliday(ql.Date( 1, 5, year))  # Día del trabajador\n",
        "    qlCalendar.addHoliday(ql.Date(25, 7, year)) # Anexión de Guanacaste\n",
        "    qlCalendar.addHoliday(ql.Date( 2, 8, year))  # Día de la Virgen\n",
        "    qlCalendar.addHoliday(ql.Date(15, 9, year)) # Independencia\n",
        "    qlCalendar.addHoliday(ql.Date(25,12, year)) # Navidad\n",
        "\n",
        "qlCalendar.addHoliday(ql.Date( 1, 1, 2025)) # Año Nuevo\n",
        "qlCalendar.addHoliday(ql.Date( 6, 4, 2023)) # Jueves Santo 2023\n",
        "qlCalendar.addHoliday(ql.Date(11, 4, 2024)) # Jueves Santo\n",
        "qlCalendar.addHoliday(ql.Date( 7, 4, 2023)) # Viernes Santo 2023\n",
        "qlCalendar.addHoliday(ql.Date(12, 4, 2024)) # Viernes Santo\n",
        "\n"
      ],
      "metadata": {
        "id": "icRO0oZ_2Voy"
      },
      "execution_count": 243,
      "outputs": []
    },
    {
      "cell_type": "code",
      "source": [
        "fecha_vence_ql_1 = ql.Date(fecha_vencimiento.day, fecha_vencimiento.month, fecha_vencimiento.year)\n",
        "fecha_vence_ql_2 = ql.Date(fecha_vencimiento_2.day, fecha_vencimiento_2.month, fecha_vencimiento_2.year)\n",
        "\n",
        "fecha_emision_ql = ql.Date(fecha_emision.day, fecha_emision.month, fecha_emision.year)\n"
      ],
      "metadata": {
        "id": "6kqNl7pCz_Bd"
      },
      "execution_count": 244,
      "outputs": []
    },
    {
      "cell_type": "code",
      "source": [
        "qlTenor = ql.Period(periodicidad)\n",
        "qlConvencion = ql.Following\n",
        "dateGeneration = ql.DateGeneration.Backward\n",
        "monthEnd = False"
      ],
      "metadata": {
        "id": "ZOcowrgpz_Eh"
      },
      "execution_count": 245,
      "outputs": []
    },
    {
      "cell_type": "code",
      "source": [
        "cronograma_bono_1 = ql.Schedule(fecha_emision_ql,fecha_vence_ql_1,qlTenor,\n",
        "                         qlCalendar,qlConvencion,qlConvencion,dateGeneration,monthEnd)\n",
        "# list(cronograma)\n",
        "pd.DataFrame({'date':list(cronograma_bono_1)})"
      ],
      "metadata": {
        "colab": {
          "base_uri": "https://localhost:8080/",
          "height": 206
        },
        "id": "cG4PqPMv22Ym",
        "outputId": "3b3900b2-069b-4f48-a5fb-351b87a3b208"
      },
      "execution_count": 246,
      "outputs": [
        {
          "output_type": "execute_result",
          "data": {
            "text/plain": [
              "                   date\n",
              "0      March 31st, 2023\n",
              "1     October 2nd, 2023\n",
              "2       April 1st, 2024\n",
              "3  September 30th, 2024\n",
              "4      March 31st, 2025"
            ],
            "text/html": [
              "\n",
              "  <div id=\"df-9de00808-7a95-4d0a-a94f-51017dc64b3e\" class=\"colab-df-container\">\n",
              "    <div>\n",
              "<style scoped>\n",
              "    .dataframe tbody tr th:only-of-type {\n",
              "        vertical-align: middle;\n",
              "    }\n",
              "\n",
              "    .dataframe tbody tr th {\n",
              "        vertical-align: top;\n",
              "    }\n",
              "\n",
              "    .dataframe thead th {\n",
              "        text-align: right;\n",
              "    }\n",
              "</style>\n",
              "<table border=\"1\" class=\"dataframe\">\n",
              "  <thead>\n",
              "    <tr style=\"text-align: right;\">\n",
              "      <th></th>\n",
              "      <th>date</th>\n",
              "    </tr>\n",
              "  </thead>\n",
              "  <tbody>\n",
              "    <tr>\n",
              "      <th>0</th>\n",
              "      <td>March 31st, 2023</td>\n",
              "    </tr>\n",
              "    <tr>\n",
              "      <th>1</th>\n",
              "      <td>October 2nd, 2023</td>\n",
              "    </tr>\n",
              "    <tr>\n",
              "      <th>2</th>\n",
              "      <td>April 1st, 2024</td>\n",
              "    </tr>\n",
              "    <tr>\n",
              "      <th>3</th>\n",
              "      <td>September 30th, 2024</td>\n",
              "    </tr>\n",
              "    <tr>\n",
              "      <th>4</th>\n",
              "      <td>March 31st, 2025</td>\n",
              "    </tr>\n",
              "  </tbody>\n",
              "</table>\n",
              "</div>\n",
              "    <div class=\"colab-df-buttons\">\n",
              "\n",
              "  <div class=\"colab-df-container\">\n",
              "    <button class=\"colab-df-convert\" onclick=\"convertToInteractive('df-9de00808-7a95-4d0a-a94f-51017dc64b3e')\"\n",
              "            title=\"Convert this dataframe to an interactive table.\"\n",
              "            style=\"display:none;\">\n",
              "\n",
              "  <svg xmlns=\"http://www.w3.org/2000/svg\" height=\"24px\" viewBox=\"0 -960 960 960\">\n",
              "    <path d=\"M120-120v-720h720v720H120Zm60-500h600v-160H180v160Zm220 220h160v-160H400v160Zm0 220h160v-160H400v160ZM180-400h160v-160H180v160Zm440 0h160v-160H620v160ZM180-180h160v-160H180v160Zm440 0h160v-160H620v160Z\"/>\n",
              "  </svg>\n",
              "    </button>\n",
              "\n",
              "  <style>\n",
              "    .colab-df-container {\n",
              "      display:flex;\n",
              "      gap: 12px;\n",
              "    }\n",
              "\n",
              "    .colab-df-convert {\n",
              "      background-color: #E8F0FE;\n",
              "      border: none;\n",
              "      border-radius: 50%;\n",
              "      cursor: pointer;\n",
              "      display: none;\n",
              "      fill: #1967D2;\n",
              "      height: 32px;\n",
              "      padding: 0 0 0 0;\n",
              "      width: 32px;\n",
              "    }\n",
              "\n",
              "    .colab-df-convert:hover {\n",
              "      background-color: #E2EBFA;\n",
              "      box-shadow: 0px 1px 2px rgba(60, 64, 67, 0.3), 0px 1px 3px 1px rgba(60, 64, 67, 0.15);\n",
              "      fill: #174EA6;\n",
              "    }\n",
              "\n",
              "    .colab-df-buttons div {\n",
              "      margin-bottom: 4px;\n",
              "    }\n",
              "\n",
              "    [theme=dark] .colab-df-convert {\n",
              "      background-color: #3B4455;\n",
              "      fill: #D2E3FC;\n",
              "    }\n",
              "\n",
              "    [theme=dark] .colab-df-convert:hover {\n",
              "      background-color: #434B5C;\n",
              "      box-shadow: 0px 1px 3px 1px rgba(0, 0, 0, 0.15);\n",
              "      filter: drop-shadow(0px 1px 2px rgba(0, 0, 0, 0.3));\n",
              "      fill: #FFFFFF;\n",
              "    }\n",
              "  </style>\n",
              "\n",
              "    <script>\n",
              "      const buttonEl =\n",
              "        document.querySelector('#df-9de00808-7a95-4d0a-a94f-51017dc64b3e button.colab-df-convert');\n",
              "      buttonEl.style.display =\n",
              "        google.colab.kernel.accessAllowed ? 'block' : 'none';\n",
              "\n",
              "      async function convertToInteractive(key) {\n",
              "        const element = document.querySelector('#df-9de00808-7a95-4d0a-a94f-51017dc64b3e');\n",
              "        const dataTable =\n",
              "          await google.colab.kernel.invokeFunction('convertToInteractive',\n",
              "                                                    [key], {});\n",
              "        if (!dataTable) return;\n",
              "\n",
              "        const docLinkHtml = 'Like what you see? Visit the ' +\n",
              "          '<a target=\"_blank\" href=https://colab.research.google.com/notebooks/data_table.ipynb>data table notebook</a>'\n",
              "          + ' to learn more about interactive tables.';\n",
              "        element.innerHTML = '';\n",
              "        dataTable['output_type'] = 'display_data';\n",
              "        await google.colab.output.renderOutput(dataTable, element);\n",
              "        const docLink = document.createElement('div');\n",
              "        docLink.innerHTML = docLinkHtml;\n",
              "        element.appendChild(docLink);\n",
              "      }\n",
              "    </script>\n",
              "  </div>\n",
              "\n",
              "\n",
              "<div id=\"df-daf2d8ef-38ba-4709-b213-f9c34749cc14\">\n",
              "  <button class=\"colab-df-quickchart\" onclick=\"quickchart('df-daf2d8ef-38ba-4709-b213-f9c34749cc14')\"\n",
              "            title=\"Suggest charts\"\n",
              "            style=\"display:none;\">\n",
              "\n",
              "<svg xmlns=\"http://www.w3.org/2000/svg\" height=\"24px\"viewBox=\"0 0 24 24\"\n",
              "     width=\"24px\">\n",
              "    <g>\n",
              "        <path d=\"M19 3H5c-1.1 0-2 .9-2 2v14c0 1.1.9 2 2 2h14c1.1 0 2-.9 2-2V5c0-1.1-.9-2-2-2zM9 17H7v-7h2v7zm4 0h-2V7h2v10zm4 0h-2v-4h2v4z\"/>\n",
              "    </g>\n",
              "</svg>\n",
              "  </button>\n",
              "\n",
              "<style>\n",
              "  .colab-df-quickchart {\n",
              "      --bg-color: #E8F0FE;\n",
              "      --fill-color: #1967D2;\n",
              "      --hover-bg-color: #E2EBFA;\n",
              "      --hover-fill-color: #174EA6;\n",
              "      --disabled-fill-color: #AAA;\n",
              "      --disabled-bg-color: #DDD;\n",
              "  }\n",
              "\n",
              "  [theme=dark] .colab-df-quickchart {\n",
              "      --bg-color: #3B4455;\n",
              "      --fill-color: #D2E3FC;\n",
              "      --hover-bg-color: #434B5C;\n",
              "      --hover-fill-color: #FFFFFF;\n",
              "      --disabled-bg-color: #3B4455;\n",
              "      --disabled-fill-color: #666;\n",
              "  }\n",
              "\n",
              "  .colab-df-quickchart {\n",
              "    background-color: var(--bg-color);\n",
              "    border: none;\n",
              "    border-radius: 50%;\n",
              "    cursor: pointer;\n",
              "    display: none;\n",
              "    fill: var(--fill-color);\n",
              "    height: 32px;\n",
              "    padding: 0;\n",
              "    width: 32px;\n",
              "  }\n",
              "\n",
              "  .colab-df-quickchart:hover {\n",
              "    background-color: var(--hover-bg-color);\n",
              "    box-shadow: 0 1px 2px rgba(60, 64, 67, 0.3), 0 1px 3px 1px rgba(60, 64, 67, 0.15);\n",
              "    fill: var(--button-hover-fill-color);\n",
              "  }\n",
              "\n",
              "  .colab-df-quickchart-complete:disabled,\n",
              "  .colab-df-quickchart-complete:disabled:hover {\n",
              "    background-color: var(--disabled-bg-color);\n",
              "    fill: var(--disabled-fill-color);\n",
              "    box-shadow: none;\n",
              "  }\n",
              "\n",
              "  .colab-df-spinner {\n",
              "    border: 2px solid var(--fill-color);\n",
              "    border-color: transparent;\n",
              "    border-bottom-color: var(--fill-color);\n",
              "    animation:\n",
              "      spin 1s steps(1) infinite;\n",
              "  }\n",
              "\n",
              "  @keyframes spin {\n",
              "    0% {\n",
              "      border-color: transparent;\n",
              "      border-bottom-color: var(--fill-color);\n",
              "      border-left-color: var(--fill-color);\n",
              "    }\n",
              "    20% {\n",
              "      border-color: transparent;\n",
              "      border-left-color: var(--fill-color);\n",
              "      border-top-color: var(--fill-color);\n",
              "    }\n",
              "    30% {\n",
              "      border-color: transparent;\n",
              "      border-left-color: var(--fill-color);\n",
              "      border-top-color: var(--fill-color);\n",
              "      border-right-color: var(--fill-color);\n",
              "    }\n",
              "    40% {\n",
              "      border-color: transparent;\n",
              "      border-right-color: var(--fill-color);\n",
              "      border-top-color: var(--fill-color);\n",
              "    }\n",
              "    60% {\n",
              "      border-color: transparent;\n",
              "      border-right-color: var(--fill-color);\n",
              "    }\n",
              "    80% {\n",
              "      border-color: transparent;\n",
              "      border-right-color: var(--fill-color);\n",
              "      border-bottom-color: var(--fill-color);\n",
              "    }\n",
              "    90% {\n",
              "      border-color: transparent;\n",
              "      border-bottom-color: var(--fill-color);\n",
              "    }\n",
              "  }\n",
              "</style>\n",
              "\n",
              "  <script>\n",
              "    async function quickchart(key) {\n",
              "      const quickchartButtonEl =\n",
              "        document.querySelector('#' + key + ' button');\n",
              "      quickchartButtonEl.disabled = true;  // To prevent multiple clicks.\n",
              "      quickchartButtonEl.classList.add('colab-df-spinner');\n",
              "      try {\n",
              "        const charts = await google.colab.kernel.invokeFunction(\n",
              "            'suggestCharts', [key], {});\n",
              "      } catch (error) {\n",
              "        console.error('Error during call to suggestCharts:', error);\n",
              "      }\n",
              "      quickchartButtonEl.classList.remove('colab-df-spinner');\n",
              "      quickchartButtonEl.classList.add('colab-df-quickchart-complete');\n",
              "    }\n",
              "    (() => {\n",
              "      let quickchartButtonEl =\n",
              "        document.querySelector('#df-daf2d8ef-38ba-4709-b213-f9c34749cc14 button');\n",
              "      quickchartButtonEl.style.display =\n",
              "        google.colab.kernel.accessAllowed ? 'block' : 'none';\n",
              "    })();\n",
              "  </script>\n",
              "</div>\n",
              "\n",
              "    </div>\n",
              "  </div>\n"
            ],
            "application/vnd.google.colaboratory.intrinsic+json": {
              "type": "dataframe",
              "summary": "{\n  \"name\": \"pd\",\n  \"rows\": 5,\n  \"fields\": [\n    {\n      \"column\": \"date\",\n      \"properties\": {\n        \"dtype\": \"string\",\n        \"num_unique_values\": 5,\n        \"samples\": [\n          \"October 2nd, 2023\",\n          \"March 31st, 2025\",\n          \"April 1st, 2024\"\n        ],\n        \"semantic_type\": \"\",\n        \"description\": \"\"\n      }\n    }\n  ]\n}"
            }
          },
          "metadata": {},
          "execution_count": 246
        }
      ]
    },
    {
      "cell_type": "code",
      "source": [
        "cronograma_bono_2 = ql.Schedule(fecha_emision_ql,fecha_vence_ql_2,qlTenor,\n",
        "                         qlCalendar,qlConvencion,qlConvencion,dateGeneration,monthEnd)\n",
        "# list(cronograma)\n",
        "pd.DataFrame({'date':list(cronograma_bono_2)})"
      ],
      "metadata": {
        "colab": {
          "base_uri": "https://localhost:8080/",
          "height": 519
        },
        "id": "AdKy0xIC2-EB",
        "outputId": "49ac00dc-f39d-4ef9-a199-f8961091183c"
      },
      "execution_count": 247,
      "outputs": [
        {
          "output_type": "execute_result",
          "data": {
            "text/plain": [
              "                    date\n",
              "0       March 31st, 2023\n",
              "1      October 2nd, 2023\n",
              "2        April 1st, 2024\n",
              "3   September 30th, 2024\n",
              "4       March 31st, 2025\n",
              "5   September 30th, 2025\n",
              "6       March 31st, 2026\n",
              "7   September 30th, 2026\n",
              "8       March 31st, 2027\n",
              "9   September 30th, 2027\n",
              "10      March 31st, 2028\n",
              "11     October 2nd, 2028\n",
              "12       April 2nd, 2029\n",
              "13     October 1st, 2029\n",
              "14       April 1st, 2030"
            ],
            "text/html": [
              "\n",
              "  <div id=\"df-689674b6-60cb-4bdf-a44b-98b0e3d7bef4\" class=\"colab-df-container\">\n",
              "    <div>\n",
              "<style scoped>\n",
              "    .dataframe tbody tr th:only-of-type {\n",
              "        vertical-align: middle;\n",
              "    }\n",
              "\n",
              "    .dataframe tbody tr th {\n",
              "        vertical-align: top;\n",
              "    }\n",
              "\n",
              "    .dataframe thead th {\n",
              "        text-align: right;\n",
              "    }\n",
              "</style>\n",
              "<table border=\"1\" class=\"dataframe\">\n",
              "  <thead>\n",
              "    <tr style=\"text-align: right;\">\n",
              "      <th></th>\n",
              "      <th>date</th>\n",
              "    </tr>\n",
              "  </thead>\n",
              "  <tbody>\n",
              "    <tr>\n",
              "      <th>0</th>\n",
              "      <td>March 31st, 2023</td>\n",
              "    </tr>\n",
              "    <tr>\n",
              "      <th>1</th>\n",
              "      <td>October 2nd, 2023</td>\n",
              "    </tr>\n",
              "    <tr>\n",
              "      <th>2</th>\n",
              "      <td>April 1st, 2024</td>\n",
              "    </tr>\n",
              "    <tr>\n",
              "      <th>3</th>\n",
              "      <td>September 30th, 2024</td>\n",
              "    </tr>\n",
              "    <tr>\n",
              "      <th>4</th>\n",
              "      <td>March 31st, 2025</td>\n",
              "    </tr>\n",
              "    <tr>\n",
              "      <th>5</th>\n",
              "      <td>September 30th, 2025</td>\n",
              "    </tr>\n",
              "    <tr>\n",
              "      <th>6</th>\n",
              "      <td>March 31st, 2026</td>\n",
              "    </tr>\n",
              "    <tr>\n",
              "      <th>7</th>\n",
              "      <td>September 30th, 2026</td>\n",
              "    </tr>\n",
              "    <tr>\n",
              "      <th>8</th>\n",
              "      <td>March 31st, 2027</td>\n",
              "    </tr>\n",
              "    <tr>\n",
              "      <th>9</th>\n",
              "      <td>September 30th, 2027</td>\n",
              "    </tr>\n",
              "    <tr>\n",
              "      <th>10</th>\n",
              "      <td>March 31st, 2028</td>\n",
              "    </tr>\n",
              "    <tr>\n",
              "      <th>11</th>\n",
              "      <td>October 2nd, 2028</td>\n",
              "    </tr>\n",
              "    <tr>\n",
              "      <th>12</th>\n",
              "      <td>April 2nd, 2029</td>\n",
              "    </tr>\n",
              "    <tr>\n",
              "      <th>13</th>\n",
              "      <td>October 1st, 2029</td>\n",
              "    </tr>\n",
              "    <tr>\n",
              "      <th>14</th>\n",
              "      <td>April 1st, 2030</td>\n",
              "    </tr>\n",
              "  </tbody>\n",
              "</table>\n",
              "</div>\n",
              "    <div class=\"colab-df-buttons\">\n",
              "\n",
              "  <div class=\"colab-df-container\">\n",
              "    <button class=\"colab-df-convert\" onclick=\"convertToInteractive('df-689674b6-60cb-4bdf-a44b-98b0e3d7bef4')\"\n",
              "            title=\"Convert this dataframe to an interactive table.\"\n",
              "            style=\"display:none;\">\n",
              "\n",
              "  <svg xmlns=\"http://www.w3.org/2000/svg\" height=\"24px\" viewBox=\"0 -960 960 960\">\n",
              "    <path d=\"M120-120v-720h720v720H120Zm60-500h600v-160H180v160Zm220 220h160v-160H400v160Zm0 220h160v-160H400v160ZM180-400h160v-160H180v160Zm440 0h160v-160H620v160ZM180-180h160v-160H180v160Zm440 0h160v-160H620v160Z\"/>\n",
              "  </svg>\n",
              "    </button>\n",
              "\n",
              "  <style>\n",
              "    .colab-df-container {\n",
              "      display:flex;\n",
              "      gap: 12px;\n",
              "    }\n",
              "\n",
              "    .colab-df-convert {\n",
              "      background-color: #E8F0FE;\n",
              "      border: none;\n",
              "      border-radius: 50%;\n",
              "      cursor: pointer;\n",
              "      display: none;\n",
              "      fill: #1967D2;\n",
              "      height: 32px;\n",
              "      padding: 0 0 0 0;\n",
              "      width: 32px;\n",
              "    }\n",
              "\n",
              "    .colab-df-convert:hover {\n",
              "      background-color: #E2EBFA;\n",
              "      box-shadow: 0px 1px 2px rgba(60, 64, 67, 0.3), 0px 1px 3px 1px rgba(60, 64, 67, 0.15);\n",
              "      fill: #174EA6;\n",
              "    }\n",
              "\n",
              "    .colab-df-buttons div {\n",
              "      margin-bottom: 4px;\n",
              "    }\n",
              "\n",
              "    [theme=dark] .colab-df-convert {\n",
              "      background-color: #3B4455;\n",
              "      fill: #D2E3FC;\n",
              "    }\n",
              "\n",
              "    [theme=dark] .colab-df-convert:hover {\n",
              "      background-color: #434B5C;\n",
              "      box-shadow: 0px 1px 3px 1px rgba(0, 0, 0, 0.15);\n",
              "      filter: drop-shadow(0px 1px 2px rgba(0, 0, 0, 0.3));\n",
              "      fill: #FFFFFF;\n",
              "    }\n",
              "  </style>\n",
              "\n",
              "    <script>\n",
              "      const buttonEl =\n",
              "        document.querySelector('#df-689674b6-60cb-4bdf-a44b-98b0e3d7bef4 button.colab-df-convert');\n",
              "      buttonEl.style.display =\n",
              "        google.colab.kernel.accessAllowed ? 'block' : 'none';\n",
              "\n",
              "      async function convertToInteractive(key) {\n",
              "        const element = document.querySelector('#df-689674b6-60cb-4bdf-a44b-98b0e3d7bef4');\n",
              "        const dataTable =\n",
              "          await google.colab.kernel.invokeFunction('convertToInteractive',\n",
              "                                                    [key], {});\n",
              "        if (!dataTable) return;\n",
              "\n",
              "        const docLinkHtml = 'Like what you see? Visit the ' +\n",
              "          '<a target=\"_blank\" href=https://colab.research.google.com/notebooks/data_table.ipynb>data table notebook</a>'\n",
              "          + ' to learn more about interactive tables.';\n",
              "        element.innerHTML = '';\n",
              "        dataTable['output_type'] = 'display_data';\n",
              "        await google.colab.output.renderOutput(dataTable, element);\n",
              "        const docLink = document.createElement('div');\n",
              "        docLink.innerHTML = docLinkHtml;\n",
              "        element.appendChild(docLink);\n",
              "      }\n",
              "    </script>\n",
              "  </div>\n",
              "\n",
              "\n",
              "<div id=\"df-437dc6d5-6cc9-4984-b655-7714e5f2c0a0\">\n",
              "  <button class=\"colab-df-quickchart\" onclick=\"quickchart('df-437dc6d5-6cc9-4984-b655-7714e5f2c0a0')\"\n",
              "            title=\"Suggest charts\"\n",
              "            style=\"display:none;\">\n",
              "\n",
              "<svg xmlns=\"http://www.w3.org/2000/svg\" height=\"24px\"viewBox=\"0 0 24 24\"\n",
              "     width=\"24px\">\n",
              "    <g>\n",
              "        <path d=\"M19 3H5c-1.1 0-2 .9-2 2v14c0 1.1.9 2 2 2h14c1.1 0 2-.9 2-2V5c0-1.1-.9-2-2-2zM9 17H7v-7h2v7zm4 0h-2V7h2v10zm4 0h-2v-4h2v4z\"/>\n",
              "    </g>\n",
              "</svg>\n",
              "  </button>\n",
              "\n",
              "<style>\n",
              "  .colab-df-quickchart {\n",
              "      --bg-color: #E8F0FE;\n",
              "      --fill-color: #1967D2;\n",
              "      --hover-bg-color: #E2EBFA;\n",
              "      --hover-fill-color: #174EA6;\n",
              "      --disabled-fill-color: #AAA;\n",
              "      --disabled-bg-color: #DDD;\n",
              "  }\n",
              "\n",
              "  [theme=dark] .colab-df-quickchart {\n",
              "      --bg-color: #3B4455;\n",
              "      --fill-color: #D2E3FC;\n",
              "      --hover-bg-color: #434B5C;\n",
              "      --hover-fill-color: #FFFFFF;\n",
              "      --disabled-bg-color: #3B4455;\n",
              "      --disabled-fill-color: #666;\n",
              "  }\n",
              "\n",
              "  .colab-df-quickchart {\n",
              "    background-color: var(--bg-color);\n",
              "    border: none;\n",
              "    border-radius: 50%;\n",
              "    cursor: pointer;\n",
              "    display: none;\n",
              "    fill: var(--fill-color);\n",
              "    height: 32px;\n",
              "    padding: 0;\n",
              "    width: 32px;\n",
              "  }\n",
              "\n",
              "  .colab-df-quickchart:hover {\n",
              "    background-color: var(--hover-bg-color);\n",
              "    box-shadow: 0 1px 2px rgba(60, 64, 67, 0.3), 0 1px 3px 1px rgba(60, 64, 67, 0.15);\n",
              "    fill: var(--button-hover-fill-color);\n",
              "  }\n",
              "\n",
              "  .colab-df-quickchart-complete:disabled,\n",
              "  .colab-df-quickchart-complete:disabled:hover {\n",
              "    background-color: var(--disabled-bg-color);\n",
              "    fill: var(--disabled-fill-color);\n",
              "    box-shadow: none;\n",
              "  }\n",
              "\n",
              "  .colab-df-spinner {\n",
              "    border: 2px solid var(--fill-color);\n",
              "    border-color: transparent;\n",
              "    border-bottom-color: var(--fill-color);\n",
              "    animation:\n",
              "      spin 1s steps(1) infinite;\n",
              "  }\n",
              "\n",
              "  @keyframes spin {\n",
              "    0% {\n",
              "      border-color: transparent;\n",
              "      border-bottom-color: var(--fill-color);\n",
              "      border-left-color: var(--fill-color);\n",
              "    }\n",
              "    20% {\n",
              "      border-color: transparent;\n",
              "      border-left-color: var(--fill-color);\n",
              "      border-top-color: var(--fill-color);\n",
              "    }\n",
              "    30% {\n",
              "      border-color: transparent;\n",
              "      border-left-color: var(--fill-color);\n",
              "      border-top-color: var(--fill-color);\n",
              "      border-right-color: var(--fill-color);\n",
              "    }\n",
              "    40% {\n",
              "      border-color: transparent;\n",
              "      border-right-color: var(--fill-color);\n",
              "      border-top-color: var(--fill-color);\n",
              "    }\n",
              "    60% {\n",
              "      border-color: transparent;\n",
              "      border-right-color: var(--fill-color);\n",
              "    }\n",
              "    80% {\n",
              "      border-color: transparent;\n",
              "      border-right-color: var(--fill-color);\n",
              "      border-bottom-color: var(--fill-color);\n",
              "    }\n",
              "    90% {\n",
              "      border-color: transparent;\n",
              "      border-bottom-color: var(--fill-color);\n",
              "    }\n",
              "  }\n",
              "</style>\n",
              "\n",
              "  <script>\n",
              "    async function quickchart(key) {\n",
              "      const quickchartButtonEl =\n",
              "        document.querySelector('#' + key + ' button');\n",
              "      quickchartButtonEl.disabled = true;  // To prevent multiple clicks.\n",
              "      quickchartButtonEl.classList.add('colab-df-spinner');\n",
              "      try {\n",
              "        const charts = await google.colab.kernel.invokeFunction(\n",
              "            'suggestCharts', [key], {});\n",
              "      } catch (error) {\n",
              "        console.error('Error during call to suggestCharts:', error);\n",
              "      }\n",
              "      quickchartButtonEl.classList.remove('colab-df-spinner');\n",
              "      quickchartButtonEl.classList.add('colab-df-quickchart-complete');\n",
              "    }\n",
              "    (() => {\n",
              "      let quickchartButtonEl =\n",
              "        document.querySelector('#df-437dc6d5-6cc9-4984-b655-7714e5f2c0a0 button');\n",
              "      quickchartButtonEl.style.display =\n",
              "        google.colab.kernel.accessAllowed ? 'block' : 'none';\n",
              "    })();\n",
              "  </script>\n",
              "</div>\n",
              "\n",
              "    </div>\n",
              "  </div>\n"
            ],
            "application/vnd.google.colaboratory.intrinsic+json": {
              "type": "dataframe",
              "summary": "{\n  \"name\": \"pd\",\n  \"rows\": 15,\n  \"fields\": [\n    {\n      \"column\": \"date\",\n      \"properties\": {\n        \"dtype\": \"string\",\n        \"num_unique_values\": 15,\n        \"samples\": [\n          \"September 30th, 2027\",\n          \"October 2nd, 2028\",\n          \"March 31st, 2023\"\n        ],\n        \"semantic_type\": \"\",\n        \"description\": \"\"\n      }\n    }\n  ]\n}"
            }
          },
          "metadata": {},
          "execution_count": 247
        }
      ]
    },
    {
      "cell_type": "code",
      "source": [
        "# Definición del día de conteo utilizando el método 30/360\n",
        "dayCount = ql.Thirty360(ql.Thirty360.BondBasis)\n",
        "\n",
        "# Tipo de capitalización\n",
        "compound_type = ql.Compounded\n",
        "\n",
        "# Frecuencia de capitalización\n",
        "frequency = ql.Semiannual\n",
        "\n",
        "# Días de liquidación\n",
        "settlementDays = 0\n",
        "\n"
      ],
      "metadata": {
        "id": "I50TghCF34AR"
      },
      "execution_count": 248,
      "outputs": []
    },
    {
      "cell_type": "markdown",
      "source": [
        "## a) Analice el riesgo del portafolio por medio de un enfoque paramétrico, usando\n",
        "una aproximación delta normal."
      ],
      "metadata": {
        "id": "sr7egXa-JQ3M"
      }
    },
    {
      "cell_type": "markdown",
      "source": [
        "###  Creacion de los bonos"
      ],
      "metadata": {
        "id": "zwAm3bSW5sdm"
      }
    },
    {
      "cell_type": "code",
      "source": [
        "bono_1 = ql.FixedRateBond(settlementDays,100,cronograma_bono_1,[tasa_cupon_1],dayCount)\n",
        "bono_2 = ql.FixedRateBond(settlementDays,100,cronograma_bono_2,[tasa_cupon_2],dayCount)"
      ],
      "metadata": {
        "id": "VnXBaNgytXJg"
      },
      "execution_count": 249,
      "outputs": []
    },
    {
      "cell_type": "code",
      "source": [
        "flujos_1 = bono_1.cashflows()\n",
        "fecha = [item.date() for item in flujos_1]\n",
        "monto = [item.amount() for item in flujos_1]\n",
        "print(pd.DataFrame({'Fechas':fecha,'Montos':monto}))"
      ],
      "metadata": {
        "colab": {
          "base_uri": "https://localhost:8080/"
        },
        "id": "lwWT5Ma0JaS2",
        "outputId": "98121fe7-1bc5-431b-ad48-26092c26ba44"
      },
      "execution_count": 250,
      "outputs": [
        {
          "output_type": "stream",
          "name": "stdout",
          "text": [
            "                 Fechas      Montos\n",
            "0     October 2nd, 2023    1.959028\n",
            "1       April 1st, 2024    1.926736\n",
            "2  September 30th, 2024    1.926736\n",
            "3      March 31st, 2025    1.937500\n",
            "4      March 31st, 2025  100.000000\n"
          ]
        }
      ]
    },
    {
      "cell_type": "code",
      "source": [
        "flujos_2 = bono_2.cashflows()\n",
        "fecha = [item.date() for item in flujos_2]\n",
        "monto = [item.amount() for item in flujos_2]\n",
        "print(pd.DataFrame({'Fechas':fecha,'Montos':monto}))"
      ],
      "metadata": {
        "colab": {
          "base_uri": "https://localhost:8080/"
        },
        "id": "l-K8bwdF33K5",
        "outputId": "747a1908-42e7-443c-bb04-e8b98b713184"
      },
      "execution_count": 251,
      "outputs": [
        {
          "output_type": "stream",
          "name": "stdout",
          "text": [
            "                  Fechas      Montos\n",
            "0      October 2nd, 2023    1.832639\n",
            "1        April 1st, 2024    1.802431\n",
            "2   September 30th, 2024    1.802431\n",
            "3       March 31st, 2025    1.812500\n",
            "4   September 30th, 2025    1.812500\n",
            "5       March 31st, 2026    1.812500\n",
            "6   September 30th, 2026    1.812500\n",
            "7       March 31st, 2027    1.812500\n",
            "8   September 30th, 2027    1.812500\n",
            "9       March 31st, 2028    1.812500\n",
            "10     October 2nd, 2028    1.832639\n",
            "11       April 2nd, 2029    1.812500\n",
            "12     October 1st, 2029    1.802431\n",
            "13       April 1st, 2030    1.812500\n",
            "14       April 1st, 2030  100.000000\n"
          ]
        }
      ]
    },
    {
      "cell_type": "markdown",
      "source": [
        "### Cálculo de rendimeintos"
      ],
      "metadata": {
        "id": "wFloUgng50si"
      }
    },
    {
      "cell_type": "code",
      "source": [
        "(rendimiento_1 := bono_1.bondYield(precio_1,dayCount,compound_type,frequency) )"
      ],
      "metadata": {
        "colab": {
          "base_uri": "https://localhost:8080/"
        },
        "id": "yuqcLLUN4zVV",
        "outputId": "c7853d7f-2c49-4ba0-f797-8765e94e953e"
      },
      "execution_count": 252,
      "outputs": [
        {
          "output_type": "execute_result",
          "data": {
            "text/plain": [
              "0.03953995412919653"
            ]
          },
          "metadata": {},
          "execution_count": 252
        }
      ]
    },
    {
      "cell_type": "code",
      "source": [
        "(rendimiento_2 := bono_2.bondYield(precio_2,dayCount,compound_type,frequency) )"
      ],
      "metadata": {
        "colab": {
          "base_uri": "https://localhost:8080/"
        },
        "id": "7x5HO8Dd5IQs",
        "outputId": "f2be2f29-ba1a-4d0c-b302-92438b3ad5d9"
      },
      "execution_count": 253,
      "outputs": [
        {
          "output_type": "execute_result",
          "data": {
            "text/plain": [
              "0.036259854614233596"
            ]
          },
          "metadata": {},
          "execution_count": 253
        }
      ]
    },
    {
      "cell_type": "markdown",
      "source": [
        "### Intereses"
      ],
      "metadata": {
        "id": "AC2xbUIs57me"
      }
    },
    {
      "cell_type": "code",
      "source": [
        "interes_rendimiento_1 = ql.InterestRate(rendimiento_1,dayCount,compound_type,frequency)"
      ],
      "metadata": {
        "id": "YkUgMDIW5SNs"
      },
      "execution_count": 254,
      "outputs": []
    },
    {
      "cell_type": "code",
      "source": [
        "interes_rendimiento_2 = ql.InterestRate(rendimiento_2,dayCount,compound_type,frequency)"
      ],
      "metadata": {
        "id": "NASKBqTy6Mlq"
      },
      "execution_count": 255,
      "outputs": []
    },
    {
      "cell_type": "markdown",
      "source": [
        "### Duración"
      ],
      "metadata": {
        "id": "A2ffE5OI8_vI"
      }
    },
    {
      "cell_type": "code",
      "source": [
        "(duracion_MC_1 := ql.BondFunctions.duration(bono_1,interes_rendimiento_1,ql.Duration.Macaulay) )"
      ],
      "metadata": {
        "colab": {
          "base_uri": "https://localhost:8080/"
        },
        "id": "b8J1iVfC9BmQ",
        "outputId": "558d2107-4a32-4678-e7d5-68d2f3fc7208"
      },
      "execution_count": 256,
      "outputs": [
        {
          "output_type": "execute_result",
          "data": {
            "text/plain": [
              "1.9436542005940463"
            ]
          },
          "metadata": {},
          "execution_count": 256
        }
      ]
    },
    {
      "cell_type": "code",
      "source": [
        "(duracion_MC_2 := ql.BondFunctions.duration(bono_2,interes_rendimiento_2,ql.Duration.Macaulay) )"
      ],
      "metadata": {
        "colab": {
          "base_uri": "https://localhost:8080/"
        },
        "id": "x-Fz7SLc9G8q",
        "outputId": "8f681b09-fed3-4438-c2ab-767ef89910c6"
      },
      "execution_count": 257,
      "outputs": [
        {
          "output_type": "execute_result",
          "data": {
            "text/plain": [
              "6.247126663327023"
            ]
          },
          "metadata": {},
          "execution_count": 257
        }
      ]
    },
    {
      "cell_type": "markdown",
      "source": [],
      "metadata": {
        "id": "ptqej8daJJHV"
      }
    },
    {
      "cell_type": "code",
      "source": [
        "(duracion_mod_1 := ql.BondFunctions.duration(bono_1,interes_rendimiento_1,ql.Duration.Modified) )"
      ],
      "metadata": {
        "colab": {
          "base_uri": "https://localhost:8080/"
        },
        "id": "NUKrWJtG9Wtr",
        "outputId": "c20816e8-42f4-47a4-d0dd-3baeda3598ab"
      },
      "execution_count": 258,
      "outputs": [
        {
          "output_type": "execute_result",
          "data": {
            "text/plain": [
              "1.905973155033298"
            ]
          },
          "metadata": {},
          "execution_count": 258
        }
      ]
    },
    {
      "cell_type": "code",
      "source": [
        "(duracion_mod_2 := ql.BondFunctions.duration(bono_2,interes_rendimiento_2,ql.Duration.Modified) )"
      ],
      "metadata": {
        "colab": {
          "base_uri": "https://localhost:8080/"
        },
        "id": "jfTkCzRA9W3f",
        "outputId": "efee8644-a596-485b-ed75-d06340f33ddd"
      },
      "execution_count": 259,
      "outputs": [
        {
          "output_type": "execute_result",
          "data": {
            "text/plain": [
              "6.135883540767966"
            ]
          },
          "metadata": {},
          "execution_count": 259
        }
      ]
    },
    {
      "cell_type": "markdown",
      "source": [
        "### Curvas"
      ],
      "metadata": {
        "id": "pQiwwKIgJ30V"
      }
    },
    {
      "cell_type": "code",
      "source": [
        "curvas_rendimientos['Date'] = pd.to_datetime(curvas_rendimientos['Date'])\n",
        "curvas_rendimientos.set_index('Date', inplace=True)\n",
        "\n"
      ],
      "metadata": {
        "id": "pgoUw5GHJs7-"
      },
      "execution_count": 260,
      "outputs": []
    },
    {
      "cell_type": "code",
      "source": [
        "curvas_rendimientos_actual = curvas_rendimientos.iloc[-1,:]\n",
        "tasa_actual = curvas_rendimientos_actual.values"
      ],
      "metadata": {
        "id": "czOoIYoHNsZi"
      },
      "execution_count": 261,
      "outputs": []
    },
    {
      "cell_type": "code",
      "source": [
        "curvas_rendimientos"
      ],
      "metadata": {
        "colab": {
          "base_uri": "https://localhost:8080/",
          "height": 648
        },
        "id": "VxYq8Hg8NhsX",
        "outputId": "f7fe24ef-87ee-4f51-8866-dd3c622ddad5"
      },
      "execution_count": 262,
      "outputs": [
        {
          "output_type": "execute_result",
          "data": {
            "text/plain": [
              "             plazo_1  plazo_30  plazo_90  plazo_180  plazo_360  plazo_720  \\\n",
              "Date                                                                        \n",
              "2019-03-15  0.026136  0.026013  0.025775   0.025454   0.024933   0.024279   \n",
              "2019-03-18  0.025970  0.025867  0.025666   0.025395   0.024953   0.024398   \n",
              "2019-03-19  0.025896  0.025803  0.025622   0.025377   0.024974   0.024465   \n",
              "2019-03-20  0.026120  0.025973  0.025687   0.025301   0.024671   0.023867   \n",
              "2019-03-21  0.025953  0.025820  0.025561   0.025210   0.024634   0.023891   \n",
              "...              ...       ...       ...        ...        ...        ...   \n",
              "2023-03-27  0.051852  0.051032  0.049470   0.047430   0.044223   0.040162   \n",
              "2023-03-28  0.051151  0.050487  0.049202   0.047483   0.044665   0.040826   \n",
              "2023-03-29  0.051196  0.050565  0.049341   0.047690   0.044957   0.041168   \n",
              "2023-03-30  0.052138  0.051457  0.050135   0.048353   0.045404   0.041325   \n",
              "2023-03-31  0.053438  0.052593  0.050970   0.048818   0.045352   0.040792   \n",
              "\n",
              "            plazo_1080  plazo_1800  plazo_2520  plazo_3600  \n",
              "Date                                                        \n",
              "2019-03-15    0.024009    0.024164    0.024773    0.025913  \n",
              "2019-03-18    0.024173    0.024336    0.024919    0.026020  \n",
              "2019-03-19    0.024257    0.024418    0.024993    0.026101  \n",
              "2019-03-20    0.023515    0.023625    0.024267    0.025492  \n",
              "2019-03-21    0.023558    0.023652    0.024257    0.025431  \n",
              "...                ...         ...         ...         ...  \n",
              "2023-03-27    0.037918    0.035945    0.035446    0.035742  \n",
              "2023-03-28    0.038517    0.036308    0.035663    0.035865  \n",
              "2023-03-29    0.038847    0.036591    0.035912    0.036077  \n",
              "2023-03-30    0.038841    0.036446    0.035723    0.035855  \n",
              "2023-03-31    0.038177    0.035796    0.035105    0.035217  \n",
              "\n",
              "[1013 rows x 10 columns]"
            ],
            "text/html": [
              "\n",
              "  <div id=\"df-dc4f034e-b248-41f7-a330-79c01c3a88ee\" class=\"colab-df-container\">\n",
              "    <div>\n",
              "<style scoped>\n",
              "    .dataframe tbody tr th:only-of-type {\n",
              "        vertical-align: middle;\n",
              "    }\n",
              "\n",
              "    .dataframe tbody tr th {\n",
              "        vertical-align: top;\n",
              "    }\n",
              "\n",
              "    .dataframe thead th {\n",
              "        text-align: right;\n",
              "    }\n",
              "</style>\n",
              "<table border=\"1\" class=\"dataframe\">\n",
              "  <thead>\n",
              "    <tr style=\"text-align: right;\">\n",
              "      <th></th>\n",
              "      <th>plazo_1</th>\n",
              "      <th>plazo_30</th>\n",
              "      <th>plazo_90</th>\n",
              "      <th>plazo_180</th>\n",
              "      <th>plazo_360</th>\n",
              "      <th>plazo_720</th>\n",
              "      <th>plazo_1080</th>\n",
              "      <th>plazo_1800</th>\n",
              "      <th>plazo_2520</th>\n",
              "      <th>plazo_3600</th>\n",
              "    </tr>\n",
              "    <tr>\n",
              "      <th>Date</th>\n",
              "      <th></th>\n",
              "      <th></th>\n",
              "      <th></th>\n",
              "      <th></th>\n",
              "      <th></th>\n",
              "      <th></th>\n",
              "      <th></th>\n",
              "      <th></th>\n",
              "      <th></th>\n",
              "      <th></th>\n",
              "    </tr>\n",
              "  </thead>\n",
              "  <tbody>\n",
              "    <tr>\n",
              "      <th>2019-03-15</th>\n",
              "      <td>0.026136</td>\n",
              "      <td>0.026013</td>\n",
              "      <td>0.025775</td>\n",
              "      <td>0.025454</td>\n",
              "      <td>0.024933</td>\n",
              "      <td>0.024279</td>\n",
              "      <td>0.024009</td>\n",
              "      <td>0.024164</td>\n",
              "      <td>0.024773</td>\n",
              "      <td>0.025913</td>\n",
              "    </tr>\n",
              "    <tr>\n",
              "      <th>2019-03-18</th>\n",
              "      <td>0.025970</td>\n",
              "      <td>0.025867</td>\n",
              "      <td>0.025666</td>\n",
              "      <td>0.025395</td>\n",
              "      <td>0.024953</td>\n",
              "      <td>0.024398</td>\n",
              "      <td>0.024173</td>\n",
              "      <td>0.024336</td>\n",
              "      <td>0.024919</td>\n",
              "      <td>0.026020</td>\n",
              "    </tr>\n",
              "    <tr>\n",
              "      <th>2019-03-19</th>\n",
              "      <td>0.025896</td>\n",
              "      <td>0.025803</td>\n",
              "      <td>0.025622</td>\n",
              "      <td>0.025377</td>\n",
              "      <td>0.024974</td>\n",
              "      <td>0.024465</td>\n",
              "      <td>0.024257</td>\n",
              "      <td>0.024418</td>\n",
              "      <td>0.024993</td>\n",
              "      <td>0.026101</td>\n",
              "    </tr>\n",
              "    <tr>\n",
              "      <th>2019-03-20</th>\n",
              "      <td>0.026120</td>\n",
              "      <td>0.025973</td>\n",
              "      <td>0.025687</td>\n",
              "      <td>0.025301</td>\n",
              "      <td>0.024671</td>\n",
              "      <td>0.023867</td>\n",
              "      <td>0.023515</td>\n",
              "      <td>0.023625</td>\n",
              "      <td>0.024267</td>\n",
              "      <td>0.025492</td>\n",
              "    </tr>\n",
              "    <tr>\n",
              "      <th>2019-03-21</th>\n",
              "      <td>0.025953</td>\n",
              "      <td>0.025820</td>\n",
              "      <td>0.025561</td>\n",
              "      <td>0.025210</td>\n",
              "      <td>0.024634</td>\n",
              "      <td>0.023891</td>\n",
              "      <td>0.023558</td>\n",
              "      <td>0.023652</td>\n",
              "      <td>0.024257</td>\n",
              "      <td>0.025431</td>\n",
              "    </tr>\n",
              "    <tr>\n",
              "      <th>...</th>\n",
              "      <td>...</td>\n",
              "      <td>...</td>\n",
              "      <td>...</td>\n",
              "      <td>...</td>\n",
              "      <td>...</td>\n",
              "      <td>...</td>\n",
              "      <td>...</td>\n",
              "      <td>...</td>\n",
              "      <td>...</td>\n",
              "      <td>...</td>\n",
              "    </tr>\n",
              "    <tr>\n",
              "      <th>2023-03-27</th>\n",
              "      <td>0.051852</td>\n",
              "      <td>0.051032</td>\n",
              "      <td>0.049470</td>\n",
              "      <td>0.047430</td>\n",
              "      <td>0.044223</td>\n",
              "      <td>0.040162</td>\n",
              "      <td>0.037918</td>\n",
              "      <td>0.035945</td>\n",
              "      <td>0.035446</td>\n",
              "      <td>0.035742</td>\n",
              "    </tr>\n",
              "    <tr>\n",
              "      <th>2023-03-28</th>\n",
              "      <td>0.051151</td>\n",
              "      <td>0.050487</td>\n",
              "      <td>0.049202</td>\n",
              "      <td>0.047483</td>\n",
              "      <td>0.044665</td>\n",
              "      <td>0.040826</td>\n",
              "      <td>0.038517</td>\n",
              "      <td>0.036308</td>\n",
              "      <td>0.035663</td>\n",
              "      <td>0.035865</td>\n",
              "    </tr>\n",
              "    <tr>\n",
              "      <th>2023-03-29</th>\n",
              "      <td>0.051196</td>\n",
              "      <td>0.050565</td>\n",
              "      <td>0.049341</td>\n",
              "      <td>0.047690</td>\n",
              "      <td>0.044957</td>\n",
              "      <td>0.041168</td>\n",
              "      <td>0.038847</td>\n",
              "      <td>0.036591</td>\n",
              "      <td>0.035912</td>\n",
              "      <td>0.036077</td>\n",
              "    </tr>\n",
              "    <tr>\n",
              "      <th>2023-03-30</th>\n",
              "      <td>0.052138</td>\n",
              "      <td>0.051457</td>\n",
              "      <td>0.050135</td>\n",
              "      <td>0.048353</td>\n",
              "      <td>0.045404</td>\n",
              "      <td>0.041325</td>\n",
              "      <td>0.038841</td>\n",
              "      <td>0.036446</td>\n",
              "      <td>0.035723</td>\n",
              "      <td>0.035855</td>\n",
              "    </tr>\n",
              "    <tr>\n",
              "      <th>2023-03-31</th>\n",
              "      <td>0.053438</td>\n",
              "      <td>0.052593</td>\n",
              "      <td>0.050970</td>\n",
              "      <td>0.048818</td>\n",
              "      <td>0.045352</td>\n",
              "      <td>0.040792</td>\n",
              "      <td>0.038177</td>\n",
              "      <td>0.035796</td>\n",
              "      <td>0.035105</td>\n",
              "      <td>0.035217</td>\n",
              "    </tr>\n",
              "  </tbody>\n",
              "</table>\n",
              "<p>1013 rows × 10 columns</p>\n",
              "</div>\n",
              "    <div class=\"colab-df-buttons\">\n",
              "\n",
              "  <div class=\"colab-df-container\">\n",
              "    <button class=\"colab-df-convert\" onclick=\"convertToInteractive('df-dc4f034e-b248-41f7-a330-79c01c3a88ee')\"\n",
              "            title=\"Convert this dataframe to an interactive table.\"\n",
              "            style=\"display:none;\">\n",
              "\n",
              "  <svg xmlns=\"http://www.w3.org/2000/svg\" height=\"24px\" viewBox=\"0 -960 960 960\">\n",
              "    <path d=\"M120-120v-720h720v720H120Zm60-500h600v-160H180v160Zm220 220h160v-160H400v160Zm0 220h160v-160H400v160ZM180-400h160v-160H180v160Zm440 0h160v-160H620v160ZM180-180h160v-160H180v160Zm440 0h160v-160H620v160Z\"/>\n",
              "  </svg>\n",
              "    </button>\n",
              "\n",
              "  <style>\n",
              "    .colab-df-container {\n",
              "      display:flex;\n",
              "      gap: 12px;\n",
              "    }\n",
              "\n",
              "    .colab-df-convert {\n",
              "      background-color: #E8F0FE;\n",
              "      border: none;\n",
              "      border-radius: 50%;\n",
              "      cursor: pointer;\n",
              "      display: none;\n",
              "      fill: #1967D2;\n",
              "      height: 32px;\n",
              "      padding: 0 0 0 0;\n",
              "      width: 32px;\n",
              "    }\n",
              "\n",
              "    .colab-df-convert:hover {\n",
              "      background-color: #E2EBFA;\n",
              "      box-shadow: 0px 1px 2px rgba(60, 64, 67, 0.3), 0px 1px 3px 1px rgba(60, 64, 67, 0.15);\n",
              "      fill: #174EA6;\n",
              "    }\n",
              "\n",
              "    .colab-df-buttons div {\n",
              "      margin-bottom: 4px;\n",
              "    }\n",
              "\n",
              "    [theme=dark] .colab-df-convert {\n",
              "      background-color: #3B4455;\n",
              "      fill: #D2E3FC;\n",
              "    }\n",
              "\n",
              "    [theme=dark] .colab-df-convert:hover {\n",
              "      background-color: #434B5C;\n",
              "      box-shadow: 0px 1px 3px 1px rgba(0, 0, 0, 0.15);\n",
              "      filter: drop-shadow(0px 1px 2px rgba(0, 0, 0, 0.3));\n",
              "      fill: #FFFFFF;\n",
              "    }\n",
              "  </style>\n",
              "\n",
              "    <script>\n",
              "      const buttonEl =\n",
              "        document.querySelector('#df-dc4f034e-b248-41f7-a330-79c01c3a88ee button.colab-df-convert');\n",
              "      buttonEl.style.display =\n",
              "        google.colab.kernel.accessAllowed ? 'block' : 'none';\n",
              "\n",
              "      async function convertToInteractive(key) {\n",
              "        const element = document.querySelector('#df-dc4f034e-b248-41f7-a330-79c01c3a88ee');\n",
              "        const dataTable =\n",
              "          await google.colab.kernel.invokeFunction('convertToInteractive',\n",
              "                                                    [key], {});\n",
              "        if (!dataTable) return;\n",
              "\n",
              "        const docLinkHtml = 'Like what you see? Visit the ' +\n",
              "          '<a target=\"_blank\" href=https://colab.research.google.com/notebooks/data_table.ipynb>data table notebook</a>'\n",
              "          + ' to learn more about interactive tables.';\n",
              "        element.innerHTML = '';\n",
              "        dataTable['output_type'] = 'display_data';\n",
              "        await google.colab.output.renderOutput(dataTable, element);\n",
              "        const docLink = document.createElement('div');\n",
              "        docLink.innerHTML = docLinkHtml;\n",
              "        element.appendChild(docLink);\n",
              "      }\n",
              "    </script>\n",
              "  </div>\n",
              "\n",
              "\n",
              "<div id=\"df-bc49c387-2e4f-46ca-8fb4-641e23a4d7a6\">\n",
              "  <button class=\"colab-df-quickchart\" onclick=\"quickchart('df-bc49c387-2e4f-46ca-8fb4-641e23a4d7a6')\"\n",
              "            title=\"Suggest charts\"\n",
              "            style=\"display:none;\">\n",
              "\n",
              "<svg xmlns=\"http://www.w3.org/2000/svg\" height=\"24px\"viewBox=\"0 0 24 24\"\n",
              "     width=\"24px\">\n",
              "    <g>\n",
              "        <path d=\"M19 3H5c-1.1 0-2 .9-2 2v14c0 1.1.9 2 2 2h14c1.1 0 2-.9 2-2V5c0-1.1-.9-2-2-2zM9 17H7v-7h2v7zm4 0h-2V7h2v10zm4 0h-2v-4h2v4z\"/>\n",
              "    </g>\n",
              "</svg>\n",
              "  </button>\n",
              "\n",
              "<style>\n",
              "  .colab-df-quickchart {\n",
              "      --bg-color: #E8F0FE;\n",
              "      --fill-color: #1967D2;\n",
              "      --hover-bg-color: #E2EBFA;\n",
              "      --hover-fill-color: #174EA6;\n",
              "      --disabled-fill-color: #AAA;\n",
              "      --disabled-bg-color: #DDD;\n",
              "  }\n",
              "\n",
              "  [theme=dark] .colab-df-quickchart {\n",
              "      --bg-color: #3B4455;\n",
              "      --fill-color: #D2E3FC;\n",
              "      --hover-bg-color: #434B5C;\n",
              "      --hover-fill-color: #FFFFFF;\n",
              "      --disabled-bg-color: #3B4455;\n",
              "      --disabled-fill-color: #666;\n",
              "  }\n",
              "\n",
              "  .colab-df-quickchart {\n",
              "    background-color: var(--bg-color);\n",
              "    border: none;\n",
              "    border-radius: 50%;\n",
              "    cursor: pointer;\n",
              "    display: none;\n",
              "    fill: var(--fill-color);\n",
              "    height: 32px;\n",
              "    padding: 0;\n",
              "    width: 32px;\n",
              "  }\n",
              "\n",
              "  .colab-df-quickchart:hover {\n",
              "    background-color: var(--hover-bg-color);\n",
              "    box-shadow: 0 1px 2px rgba(60, 64, 67, 0.3), 0 1px 3px 1px rgba(60, 64, 67, 0.15);\n",
              "    fill: var(--button-hover-fill-color);\n",
              "  }\n",
              "\n",
              "  .colab-df-quickchart-complete:disabled,\n",
              "  .colab-df-quickchart-complete:disabled:hover {\n",
              "    background-color: var(--disabled-bg-color);\n",
              "    fill: var(--disabled-fill-color);\n",
              "    box-shadow: none;\n",
              "  }\n",
              "\n",
              "  .colab-df-spinner {\n",
              "    border: 2px solid var(--fill-color);\n",
              "    border-color: transparent;\n",
              "    border-bottom-color: var(--fill-color);\n",
              "    animation:\n",
              "      spin 1s steps(1) infinite;\n",
              "  }\n",
              "\n",
              "  @keyframes spin {\n",
              "    0% {\n",
              "      border-color: transparent;\n",
              "      border-bottom-color: var(--fill-color);\n",
              "      border-left-color: var(--fill-color);\n",
              "    }\n",
              "    20% {\n",
              "      border-color: transparent;\n",
              "      border-left-color: var(--fill-color);\n",
              "      border-top-color: var(--fill-color);\n",
              "    }\n",
              "    30% {\n",
              "      border-color: transparent;\n",
              "      border-left-color: var(--fill-color);\n",
              "      border-top-color: var(--fill-color);\n",
              "      border-right-color: var(--fill-color);\n",
              "    }\n",
              "    40% {\n",
              "      border-color: transparent;\n",
              "      border-right-color: var(--fill-color);\n",
              "      border-top-color: var(--fill-color);\n",
              "    }\n",
              "    60% {\n",
              "      border-color: transparent;\n",
              "      border-right-color: var(--fill-color);\n",
              "    }\n",
              "    80% {\n",
              "      border-color: transparent;\n",
              "      border-right-color: var(--fill-color);\n",
              "      border-bottom-color: var(--fill-color);\n",
              "    }\n",
              "    90% {\n",
              "      border-color: transparent;\n",
              "      border-bottom-color: var(--fill-color);\n",
              "    }\n",
              "  }\n",
              "</style>\n",
              "\n",
              "  <script>\n",
              "    async function quickchart(key) {\n",
              "      const quickchartButtonEl =\n",
              "        document.querySelector('#' + key + ' button');\n",
              "      quickchartButtonEl.disabled = true;  // To prevent multiple clicks.\n",
              "      quickchartButtonEl.classList.add('colab-df-spinner');\n",
              "      try {\n",
              "        const charts = await google.colab.kernel.invokeFunction(\n",
              "            'suggestCharts', [key], {});\n",
              "      } catch (error) {\n",
              "        console.error('Error during call to suggestCharts:', error);\n",
              "      }\n",
              "      quickchartButtonEl.classList.remove('colab-df-spinner');\n",
              "      quickchartButtonEl.classList.add('colab-df-quickchart-complete');\n",
              "    }\n",
              "    (() => {\n",
              "      let quickchartButtonEl =\n",
              "        document.querySelector('#df-bc49c387-2e4f-46ca-8fb4-641e23a4d7a6 button');\n",
              "      quickchartButtonEl.style.display =\n",
              "        google.colab.kernel.accessAllowed ? 'block' : 'none';\n",
              "    })();\n",
              "  </script>\n",
              "</div>\n",
              "\n",
              "  <div id=\"id_ec3c8d37-7b7e-40c0-9529-95f88cc01aeb\">\n",
              "    <style>\n",
              "      .colab-df-generate {\n",
              "        background-color: #E8F0FE;\n",
              "        border: none;\n",
              "        border-radius: 50%;\n",
              "        cursor: pointer;\n",
              "        display: none;\n",
              "        fill: #1967D2;\n",
              "        height: 32px;\n",
              "        padding: 0 0 0 0;\n",
              "        width: 32px;\n",
              "      }\n",
              "\n",
              "      .colab-df-generate:hover {\n",
              "        background-color: #E2EBFA;\n",
              "        box-shadow: 0px 1px 2px rgba(60, 64, 67, 0.3), 0px 1px 3px 1px rgba(60, 64, 67, 0.15);\n",
              "        fill: #174EA6;\n",
              "      }\n",
              "\n",
              "      [theme=dark] .colab-df-generate {\n",
              "        background-color: #3B4455;\n",
              "        fill: #D2E3FC;\n",
              "      }\n",
              "\n",
              "      [theme=dark] .colab-df-generate:hover {\n",
              "        background-color: #434B5C;\n",
              "        box-shadow: 0px 1px 3px 1px rgba(0, 0, 0, 0.15);\n",
              "        filter: drop-shadow(0px 1px 2px rgba(0, 0, 0, 0.3));\n",
              "        fill: #FFFFFF;\n",
              "      }\n",
              "    </style>\n",
              "    <button class=\"colab-df-generate\" onclick=\"generateWithVariable('curvas_rendimientos')\"\n",
              "            title=\"Generate code using this dataframe.\"\n",
              "            style=\"display:none;\">\n",
              "\n",
              "  <svg xmlns=\"http://www.w3.org/2000/svg\" height=\"24px\"viewBox=\"0 0 24 24\"\n",
              "       width=\"24px\">\n",
              "    <path d=\"M7,19H8.4L18.45,9,17,7.55,7,17.6ZM5,21V16.75L18.45,3.32a2,2,0,0,1,2.83,0l1.4,1.43a1.91,1.91,0,0,1,.58,1.4,1.91,1.91,0,0,1-.58,1.4L9.25,21ZM18.45,9,17,7.55Zm-12,3A5.31,5.31,0,0,0,4.9,8.1,5.31,5.31,0,0,0,1,6.5,5.31,5.31,0,0,0,4.9,4.9,5.31,5.31,0,0,0,6.5,1,5.31,5.31,0,0,0,8.1,4.9,5.31,5.31,0,0,0,12,6.5,5.46,5.46,0,0,0,6.5,12Z\"/>\n",
              "  </svg>\n",
              "    </button>\n",
              "    <script>\n",
              "      (() => {\n",
              "      const buttonEl =\n",
              "        document.querySelector('#id_ec3c8d37-7b7e-40c0-9529-95f88cc01aeb button.colab-df-generate');\n",
              "      buttonEl.style.display =\n",
              "        google.colab.kernel.accessAllowed ? 'block' : 'none';\n",
              "\n",
              "      buttonEl.onclick = () => {\n",
              "        google.colab.notebook.generateWithVariable('curvas_rendimientos');\n",
              "      }\n",
              "      })();\n",
              "    </script>\n",
              "  </div>\n",
              "\n",
              "    </div>\n",
              "  </div>\n"
            ],
            "application/vnd.google.colaboratory.intrinsic+json": {
              "type": "dataframe",
              "variable_name": "curvas_rendimientos",
              "summary": "{\n  \"name\": \"curvas_rendimientos\",\n  \"rows\": 1013,\n  \"fields\": [\n    {\n      \"column\": \"Date\",\n      \"properties\": {\n        \"dtype\": \"date\",\n        \"min\": \"2019-03-15 00:00:00\",\n        \"max\": \"2023-03-31 00:00:00\",\n        \"num_unique_values\": 1013,\n        \"samples\": [\n          \"2021-12-14 00:00:00\",\n          \"2021-04-09 00:00:00\",\n          \"2022-12-15 00:00:00\"\n        ],\n        \"semantic_type\": \"\",\n        \"description\": \"\"\n      }\n    },\n    {\n      \"column\": \"plazo_1\",\n      \"properties\": {\n        \"dtype\": \"number\",\n        \"std\": 0.017016026857689437,\n        \"min\": -0.1682984899281775,\n        \"max\": 0.05516024129004712,\n        \"num_unique_values\": 1013,\n        \"samples\": [\n          0.002563148436360977,\n          0.002348701455096691,\n          0.05004847543856041\n        ],\n        \"semantic_type\": \"\",\n        \"description\": \"\"\n      }\n    },\n    {\n      \"column\": \"plazo_30\",\n      \"properties\": {\n        \"dtype\": \"number\",\n        \"std\": 0.01590594026018667,\n        \"min\": -0.05839956071004022,\n        \"max\": 0.05481462502663285,\n        \"num_unique_values\": 1013,\n        \"samples\": [\n          0.002161103181015274,\n          0.002073234897312554,\n          0.04964670233508949\n        ],\n        \"semantic_type\": \"\",\n        \"description\": \"\"\n      }\n    },\n    {\n      \"column\": \"plazo_90\",\n      \"properties\": {\n        \"dtype\": \"number\",\n        \"std\": 0.015669422489169846,\n        \"min\": -0.0005254928387058655,\n        \"max\": 0.05411866044901376,\n        \"num_unique_values\": 1013,\n        \"samples\": [\n          0.001732950875982302,\n          0.001597743359756899,\n          0.04884011639048892\n        ],\n        \"semantic_type\": \"\",\n        \"description\": \"\"\n      }\n    },\n    {\n      \"column\": \"plazo_180\",\n      \"properties\": {\n        \"dtype\": \"number\",\n        \"std\": 0.01568033323476793,\n        \"min\": 0.00050245985645063,\n        \"max\": 0.05312162609970394,\n        \"num_unique_values\": 1013,\n        \"samples\": [\n          0.001814313836289403,\n          0.001099095898798803,\n          0.04769066600661583\n        ],\n        \"semantic_type\": \"\",\n        \"description\": \"\"\n      }\n    },\n    {\n      \"column\": \"plazo_360\",\n      \"properties\": {\n        \"dtype\": \"number\",\n        \"std\": 0.01546613093992635,\n        \"min\": 0.000554284285755128,\n        \"max\": 0.05335242075429072,\n        \"num_unique_values\": 1013,\n        \"samples\": [\n          0.003289404651304575,\n          0.0007339816033911645,\n          0.04559696868779699\n        ],\n        \"semantic_type\": \"\",\n        \"description\": \"\"\n      }\n    },\n    {\n      \"column\": \"plazo_720\",\n      \"properties\": {\n        \"dtype\": \"number\",\n        \"std\": 0.014606051271819359,\n        \"min\": 0.00102004240625628,\n        \"max\": 0.05034290174303316,\n        \"num_unique_values\": 1013,\n        \"samples\": [\n          0.007094072934417335,\n          0.00170234322395397,\n          0.04214323641802983\n        ],\n        \"semantic_type\": \"\",\n        \"description\": \"\"\n      }\n    },\n    {\n      \"column\": \"plazo_1080\",\n      \"properties\": {\n        \"dtype\": \"number\",\n        \"std\": 0.013617852828167234,\n        \"min\": 0.001271514883878603,\n        \"max\": 0.04682797082478807,\n        \"num_unique_values\": 1013,\n        \"samples\": [\n          0.009820692171451992,\n          0.003849898475985018,\n          0.03951944234956709\n        ],\n        \"semantic_type\": \"\",\n        \"description\": \"\"\n      }\n    },\n    {\n      \"column\": \"plazo_1800\",\n      \"properties\": {\n        \"dtype\": \"number\",\n        \"std\": 0.011897890483730625,\n        \"min\": 0.002218369080475297,\n        \"max\": 0.04438666249955522,\n        \"num_unique_values\": 1013,\n        \"samples\": [\n          0.01255857171742643,\n          0.008921364526275455,\n          0.03617076341282285\n        ],\n        \"semantic_type\": \"\",\n        \"description\": \"\"\n      }\n    },\n    {\n      \"column\": \"plazo_2520\",\n      \"properties\": {\n        \"dtype\": \"number\",\n        \"std\": 0.01073144562093168,\n        \"min\": 0.003413182036750932,\n        \"max\": 0.04310591316822204,\n        \"num_unique_values\": 1013,\n        \"samples\": [\n          0.01384081743482508,\n          0.01326084947728635,\n          0.0345899192769278\n        ],\n        \"semantic_type\": \"\",\n        \"description\": \"\"\n      }\n    },\n    {\n      \"column\": \"plazo_3600\",\n      \"properties\": {\n        \"dtype\": \"number\",\n        \"std\": 0.00974979406223789,\n        \"min\": 0.005201873051182799,\n        \"max\": 0.04326886735876553,\n        \"num_unique_values\": 1013,\n        \"samples\": [\n          0.01509178778896059,\n          0.01761516745058957,\n          0.03411562445466298\n        ],\n        \"semantic_type\": \"\",\n        \"description\": \"\"\n      }\n    }\n  ]\n}"
            }
          },
          "metadata": {},
          "execution_count": 262
        }
      ]
    },
    {
      "cell_type": "markdown",
      "source": [
        "### Plazos"
      ],
      "metadata": {
        "id": "8hETPkiXKcw9"
      }
    },
    {
      "cell_type": "code",
      "source": [
        "plazos = curvas_rendimientos_actual.index.values\n",
        "plazos_2 = [int(re.search(r'\\d+', plazo).group()) for plazo in plazos]\n",
        "plazos_limpios = np.array(plazos_2)\n",
        "plazos_limpios"
      ],
      "metadata": {
        "colab": {
          "base_uri": "https://localhost:8080/"
        },
        "id": "U0UTbfZSKeG5",
        "outputId": "22ef97c6-2c84-4973-f316-ae8a0622116f"
      },
      "execution_count": 263,
      "outputs": [
        {
          "output_type": "execute_result",
          "data": {
            "text/plain": [
              "array([   1,   30,   90,  180,  360,  720, 1080, 1800, 2520, 3600])"
            ]
          },
          "metadata": {},
          "execution_count": 263
        }
      ]
    },
    {
      "cell_type": "code",
      "source": [
        "tasa_actual"
      ],
      "metadata": {
        "colab": {
          "base_uri": "https://localhost:8080/"
        },
        "id": "NxQPcla2QROF",
        "outputId": "25909866-636f-41a7-c5ea-f6303712c1c3"
      },
      "execution_count": 264,
      "outputs": [
        {
          "output_type": "execute_result",
          "data": {
            "text/plain": [
              "array([0.05343767, 0.05259337, 0.05097032, 0.04881758, 0.04535153,\n",
              "       0.04079181, 0.03817697, 0.03579613, 0.03510458, 0.03521748])"
            ]
          },
          "metadata": {},
          "execution_count": 264
        }
      ]
    },
    {
      "cell_type": "code",
      "source": [
        "plazos_limpios_ql= fecha_calc_ql + plazos_limpios\n",
        "plazos_limpios_ql = ql.DateVector(list(plazos_limpios_ql))\n"
      ],
      "metadata": {
        "id": "rXpgkmboPCzW"
      },
      "execution_count": 265,
      "outputs": []
    },
    {
      "cell_type": "code",
      "source": [
        "curva_ql0 = ql.ZeroCurve(plazos_limpios_ql, tasa_actual, ql.Thirty360(ql.Thirty360.BondBasis))\n",
        "curva_ql = ql.YieldTermStructureHandle(curva_ql0)"
      ],
      "metadata": {
        "id": "Y3LHw1f5K79b"
      },
      "execution_count": 266,
      "outputs": []
    },
    {
      "cell_type": "code",
      "source": [
        "estructura_plazos = ql.ZeroSpreadedTermStructure(\n",
        "        curva_ql,ql.QuoteHandle(ql.SimpleQuote(0)), ql.Compounded,\n",
        "        ql.Semiannual,dayCount)"
      ],
      "metadata": {
        "id": "LDlYuepnRKvZ"
      },
      "execution_count": 267,
      "outputs": []
    },
    {
      "cell_type": "code",
      "source": [
        "pricing_engine = ql.DiscountingBondEngine(ql.RelinkableYieldTermStructureHandle(estructura_plazos))"
      ],
      "metadata": {
        "id": "FhUggW81RN4-"
      },
      "execution_count": 268,
      "outputs": []
    },
    {
      "cell_type": "code",
      "source": [
        "bono_1.setPricingEngine(pricing_engine)\n",
        "bono_1.NPV()"
      ],
      "metadata": {
        "colab": {
          "base_uri": "https://localhost:8080/"
        },
        "id": "SEDScwKlRSbj",
        "outputId": "8a9b7ed8-ef2b-4057-aaac-0850e766f1d5"
      },
      "execution_count": 269,
      "outputs": [
        {
          "output_type": "execute_result",
          "data": {
            "text/plain": [
              "99.52623809960488"
            ]
          },
          "metadata": {},
          "execution_count": 269
        }
      ]
    },
    {
      "cell_type": "markdown",
      "source": [
        "### Calculo del precio\n"
      ],
      "metadata": {
        "id": "X-Fb21kySKwy"
      }
    },
    {
      "cell_type": "code",
      "source": [
        "def Calculadora_Precio(spread, bono):\n",
        "    estructura_plazos = ql.ZeroSpreadedTermStructure(\n",
        "            curva_ql,ql.QuoteHandle(ql.SimpleQuote(spread)), ql.Compounded,\n",
        "            ql.Semiannual,dayCount)\n",
        "    pricing_engine = ql.DiscountingBondEngine(\n",
        "            ql.RelinkableYieldTermStructureHandle(estructura_plazos))\n",
        "\n",
        "    bono.setPricingEngine(pricing_engine)\n",
        "    return bono.NPV()"
      ],
      "metadata": {
        "id": "Yqx5bP5bRaG-"
      },
      "execution_count": 270,
      "outputs": []
    },
    {
      "cell_type": "code",
      "source": [
        "Calculadora_Precio(.01, bono_1)"
      ],
      "metadata": {
        "colab": {
          "base_uri": "https://localhost:8080/"
        },
        "id": "-h4l6n_yRbOn",
        "outputId": "ccbb0a46-cec0-4049-de4b-639d6555dec3"
      },
      "execution_count": 271,
      "outputs": [
        {
          "output_type": "execute_result",
          "data": {
            "text/plain": [
              "97.65368772591926"
            ]
          },
          "metadata": {},
          "execution_count": 271
        }
      ]
    },
    {
      "cell_type": "code",
      "source": [
        "def ErrorPrecio(spread, precio, bono):\n",
        "    return precio-Precio(spread, bono)"
      ],
      "metadata": {
        "id": "zw1MQLgCReXi"
      },
      "execution_count": 272,
      "outputs": []
    },
    {
      "cell_type": "code",
      "source": [
        "from scipy.optimize import bisect"
      ],
      "metadata": {
        "id": "BA0Iho7vRi3W"
      },
      "execution_count": 273,
      "outputs": []
    },
    {
      "cell_type": "code",
      "source": [
        "spread_estimado_1 = bisect(lambda spread: ErrorPrecio(spread, precio_1, bono_1), -1, 1)\n",
        "spread_estimado_1"
      ],
      "metadata": {
        "colab": {
          "base_uri": "https://localhost:8080/"
        },
        "id": "du6UVz-1Rmu4",
        "outputId": "dc01661e-6e64-4e16-e8ac-a4b6d51aee0c"
      },
      "execution_count": 274,
      "outputs": [
        {
          "output_type": "execute_result",
          "data": {
            "text/plain": [
              "-0.0017021180010488024"
            ]
          },
          "metadata": {},
          "execution_count": 274
        }
      ]
    },
    {
      "cell_type": "code",
      "source": [
        "spread_estimado_2 = bisect(lambda spread: ErrorPrecio(spread, precio_2, bono_2), -1, 1)\n",
        "spread_estimado_2"
      ],
      "metadata": {
        "colab": {
          "base_uri": "https://localhost:8080/"
        },
        "id": "46oD42mWRuVC",
        "outputId": "15747bf3-9bbd-4d14-eeb9-0ac2aad1099d"
      },
      "execution_count": 275,
      "outputs": [
        {
          "output_type": "execute_result",
          "data": {
            "text/plain": [
              "0.0006169575153762707"
            ]
          },
          "metadata": {},
          "execution_count": 275
        }
      ]
    },
    {
      "cell_type": "code",
      "source": [
        "Calculadora_Precio(spread_estimado_1, bono_1)"
      ],
      "metadata": {
        "colab": {
          "base_uri": "https://localhost:8080/"
        },
        "id": "CbtExkWyR3DN",
        "outputId": "f0b4625f-2f97-4b3f-aada-7b4b9a8d06b7"
      },
      "execution_count": 276,
      "outputs": [
        {
          "output_type": "execute_result",
          "data": {
            "text/plain": [
              "99.8495110002618"
            ]
          },
          "metadata": {},
          "execution_count": 276
        }
      ]
    },
    {
      "cell_type": "code",
      "source": [
        "Calculadora_Precio(spread_estimado_2, bono_2)"
      ],
      "metadata": {
        "colab": {
          "base_uri": "https://localhost:8080/"
        },
        "id": "3YaT1lW1R3XB",
        "outputId": "3e8a9a20-204e-407c-8a0a-43880fd2a332"
      },
      "execution_count": 277,
      "outputs": [
        {
          "output_type": "execute_result",
          "data": {
            "text/plain": [
              "99.99386600013406"
            ]
          },
          "metadata": {},
          "execution_count": 277
        }
      ]
    },
    {
      "cell_type": "markdown",
      "source": [
        "### Cálculo del riesgo"
      ],
      "metadata": {
        "id": "iuXxwI2KSUih"
      }
    },
    {
      "cell_type": "code",
      "source": [
        "from scipy.stats import norm"
      ],
      "metadata": {
        "id": "yuoCFsZnSVPK"
      },
      "execution_count": 278,
      "outputs": []
    },
    {
      "cell_type": "code",
      "source": [
        "nivel_conf = 0.999\n",
        "zq = norm.ppf(nivel_conf)\n",
        "cambios_tasas = curvas_rendimientos.diff().iloc[1:]\n",
        "sigma_plazo = cambios_tasas.std()\n",
        "vol = sigma_plazo.iloc[9]\n",
        "vol"
      ],
      "metadata": {
        "colab": {
          "base_uri": "https://localhost:8080/"
        },
        "id": "_XkQoTULSYcl",
        "outputId": "7a25e179-1410-4e7b-9371-f43d623cf379"
      },
      "execution_count": 279,
      "outputs": [
        {
          "output_type": "execute_result",
          "data": {
            "text/plain": [
              "0.0006080116336959643"
            ]
          },
          "metadata": {},
          "execution_count": 279
        }
      ]
    },
    {
      "cell_type": "code",
      "source": [
        "N1 = 1000000\n",
        "N2 = 1500000\n",
        "M1 = N1*precio_1\n",
        "M2 = N2*precio_2\n",
        "V = M1 + M2         #Valor de la cartera\n",
        "(VaR := M1*duracion_mod_1*zq*vol+M2*duracion_mod_2*zq*vol)"
      ],
      "metadata": {
        "colab": {
          "base_uri": "https://localhost:8080/"
        },
        "id": "gQnEe0rtSpN1",
        "outputId": "6a1d3206-2ae2-42cd-b98d-945fc731a4c8"
      },
      "execution_count": 280,
      "outputs": [
        {
          "output_type": "execute_result",
          "data": {
            "text/plain": [
              "2086771.919431425"
            ]
          },
          "metadata": {},
          "execution_count": 280
        }
      ]
    },
    {
      "cell_type": "markdown",
      "source": [
        "## b) Mejore el análisis de riesgo usando las curvas adjuntas y un enfoque por componentes principales.\n"
      ],
      "metadata": {
        "id": "cxp-_ckxJTRm"
      }
    },
    {
      "cell_type": "code",
      "source": [
        "from sklearn import decomposition"
      ],
      "metadata": {
        "id": "h9AyTgwVS1QB"
      },
      "execution_count": 281,
      "outputs": []
    },
    {
      "cell_type": "code",
      "source": [
        "pca = decomposition.PCA(n_components=3, whiten = False)"
      ],
      "metadata": {
        "id": "kt8RuALOS46h"
      },
      "execution_count": 282,
      "outputs": []
    },
    {
      "cell_type": "code",
      "source": [
        "cambios_en_tasas = np.diff(curvas_rendimientos.values,axis = 0)"
      ],
      "metadata": {
        "id": "a9wYDjyyS745"
      },
      "execution_count": 283,
      "outputs": []
    },
    {
      "cell_type": "code",
      "source": [
        "x_r = pca.fit_transform(cambios_en_tasas)"
      ],
      "metadata": {
        "id": "NGRpcwr_TAgM"
      },
      "execution_count": 284,
      "outputs": []
    },
    {
      "cell_type": "code",
      "source": [
        "comp = pca.components_"
      ],
      "metadata": {
        "id": "DS3sXFTWTFIK"
      },
      "execution_count": 285,
      "outputs": []
    },
    {
      "cell_type": "code",
      "source": [
        "print(pca.explained_variance_ratio_)"
      ],
      "metadata": {
        "colab": {
          "base_uri": "https://localhost:8080/"
        },
        "id": "iZuunwwoTHAA",
        "outputId": "e3720d2f-37c5-4ff1-c4bd-91c62462d70e"
      },
      "execution_count": 286,
      "outputs": [
        {
          "output_type": "stream",
          "name": "stdout",
          "text": [
            "[0.97524959 0.01454019 0.00824121]\n"
          ]
        }
      ]
    },
    {
      "cell_type": "code",
      "source": [
        "def PriceTermStructShift(spread,shift,bono):\n",
        "    ql_curvacero_shift = ql.ZeroCurve(fecha_calc_ql+plazos_limpios,tasa_actual+shift,ql.Thirty360(ql.Thirty360.BondBasis))\n",
        "    ql_curva_shift = ql.YieldTermStructureHandle(ql_curvacero_shift)\n",
        "    term_structure_spread = ql.ZeroSpreadedTermStructure(ql_curva_shift,ql.QuoteHandle(ql.SimpleQuote(spread)),ql.Compounded,ql.Semiannual,dayCount)\n",
        "    pricing_engine_shift = ql.DiscountingBondEngine(ql.RelinkableYieldTermStructureHandle(term_structure_spread))\n",
        "    bono.setPricingEngine(pricing_engine_shift)\n",
        "    return bono.NPV()"
      ],
      "metadata": {
        "id": "FulJzMhhTJ_W"
      },
      "execution_count": 304,
      "outputs": []
    },
    {
      "cell_type": "code",
      "source": [
        "dur_pca_1 = np.zeros(3)\n",
        "dur_pca_2 = np.zeros(3)\n",
        "delta = .0001\n",
        "for icomp in range(0,3):\n",
        "    nuevo_precio = PriceTermStructShift(spread_estimado_1,delta*comp[icomp], bono_1)\n",
        "    dur_pca_1[icomp] = -(1/precio_1)*(precio_1-nuevo_precio)/(delta)\n",
        "    nuevo_precio = PriceTermStructShift(spread_estimado_2,delta*comp[icomp], bono_2)\n",
        "    dur_pca_2[icomp] = -(1/precio_2)*(precio_2-nuevo_precio)/(delta)"
      ],
      "metadata": {
        "id": "zZK1oQLUTK2h"
      },
      "execution_count": 308,
      "outputs": []
    },
    {
      "cell_type": "code",
      "source": [
        "print(dur_pca_1)\n",
        "print(dur_pca_2)"
      ],
      "metadata": {
        "colab": {
          "base_uri": "https://localhost:8080/"
        },
        "id": "_SmL8BbuTkja",
        "outputId": "ded2e517-d979-4479-c4aa-9ad2f02801ea"
      },
      "execution_count": 309,
      "outputs": [
        {
          "output_type": "stream",
          "name": "stdout",
          "text": [
            "[ 0.00388182 -0.7908985   0.03265895]\n",
            "[ 0.03464589 -2.66280454  0.22351953]\n"
          ]
        }
      ]
    },
    {
      "cell_type": "code",
      "source": [],
      "metadata": {
        "id": "e1_pbgOcUXAZ"
      },
      "execution_count": null,
      "outputs": []
    },
    {
      "cell_type": "code",
      "source": [
        "from numpy.linalg import norm"
      ],
      "metadata": {
        "id": "pNubLSLaTslE"
      },
      "execution_count": 300,
      "outputs": []
    },
    {
      "cell_type": "code",
      "source": [
        "covarianza = np.cov(np.transpose(x_r))\n",
        "covarianza"
      ],
      "metadata": {
        "colab": {
          "base_uri": "https://localhost:8080/"
        },
        "id": "awtmp8oJTtkk",
        "outputId": "e02c9d53-5818-4f33-c189-4cd67f1a5e40"
      },
      "execution_count": 301,
      "outputs": [
        {
          "output_type": "execute_result",
          "data": {
            "text/plain": [
              "array([[ 1.24052678e-04,  3.77729777e-21, -9.97337310e-21],\n",
              "       [ 3.77729777e-21,  1.84952635e-06,  1.50807053e-22],\n",
              "       [-9.97337310e-21,  1.50807053e-22,  1.04828946e-06]])"
            ]
          },
          "metadata": {},
          "execution_count": 301
        }
      ]
    },
    {
      "cell_type": "code",
      "source": [
        "sigma1 = np.sqrt( np.dot(np.dot(np.transpose(dur_pca_1),covarianza),dur_pca_1) )\n",
        "sigma2 = np.sqrt( np.dot(np.dot(np.transpose(dur_pca_2),covarianza),dur_pca_2) )"
      ],
      "metadata": {
        "id": "hXFGaoRKUsGU"
      },
      "execution_count": 310,
      "outputs": []
    },
    {
      "cell_type": "code",
      "source": [
        "(VaR_CA := M1*sigma1*zq+M2*sigma2*zq )"
      ],
      "metadata": {
        "colab": {
          "base_uri": "https://localhost:8080/"
        },
        "id": "WUEAzdtPU5Av",
        "outputId": "880095fb-f2c4-46b7-9b73-3eda811eac38"
      },
      "execution_count": 311,
      "outputs": [
        {
          "output_type": "execute_result",
          "data": {
            "text/plain": [
              "2023660.9233775523"
            ]
          },
          "metadata": {},
          "execution_count": 311
        }
      ]
    },
    {
      "cell_type": "markdown",
      "source": [
        "\n",
        "## c) Use ahora un enfoque de simulación histórica y las curvas provistas para analizar\n",
        "el riesgo del portafolio."
      ],
      "metadata": {
        "id": "vUp-yHCbJT_m"
      }
    },
    {
      "cell_type": "code",
      "source": [
        "n=len(cambios_tasas)\n",
        "esceneario_1_precios = np.zeros(n)\n",
        "esceneario_2_precios = np.zeros(n)\n",
        "for i in range(0,n):\n",
        "    esceneario_1_precios[i] = PriceTermStructShift(spread_estimado_1, cambios_en_tasas[i,:],bono_1)\n",
        "    esceneario_2_precios[i] = PriceTermStructShift(spread_estimado_2, cambios_en_tasas[i,:],bono_2)"
      ],
      "metadata": {
        "id": "cbeoZLRyJb02"
      },
      "execution_count": 315,
      "outputs": []
    },
    {
      "cell_type": "code",
      "source": [
        "esceneario_1_precios"
      ],
      "metadata": {
        "colab": {
          "base_uri": "https://localhost:8080/"
        },
        "id": "RCif6qZDVAAP",
        "outputId": "4ec7a45a-e59b-4dcb-ef48-9ebafd3189c1"
      },
      "execution_count": 316,
      "outputs": [
        {
          "output_type": "execute_result",
          "data": {
            "text/plain": [
              "array([99.82662189, 99.83660687, 99.96510786, ..., 99.78351626,\n",
              "       99.81850077, 99.95150933])"
            ]
          },
          "metadata": {},
          "execution_count": 316
        }
      ]
    },
    {
      "cell_type": "code",
      "source": [
        "esceneario_2_precios"
      ],
      "metadata": {
        "colab": {
          "base_uri": "https://localhost:8080/"
        },
        "id": "lqWD_kz0VBtQ",
        "outputId": "8ed3fd15-2d4e-4f04-d34e-7231753ff828"
      },
      "execution_count": 317,
      "outputs": [
        {
          "output_type": "execute_result",
          "data": {
            "text/plain": [
              "array([ 99.90330555,  99.94747637, 100.44553635, ...,  99.83632727,\n",
              "       100.10393461, 100.37984557])"
            ]
          },
          "metadata": {},
          "execution_count": 317
        }
      ]
    },
    {
      "cell_type": "code",
      "source": [
        "V_Hist = N1*esceneario_1_precios+N2*esceneario_2_precios"
      ],
      "metadata": {
        "id": "puh_r-YXVDaG"
      },
      "execution_count": 318,
      "outputs": []
    },
    {
      "cell_type": "code",
      "source": [
        "(VaR_Hist := (V-np.quantile(V_Hist,1-nivel_conf)) )"
      ],
      "metadata": {
        "colab": {
          "base_uri": "https://localhost:8080/"
        },
        "id": "keBdLEi7VEZz",
        "outputId": "9a595c85-5a2a-41e5-cca7-59c2c97152a4"
      },
      "execution_count": 319,
      "outputs": [
        {
          "output_type": "execute_result",
          "data": {
            "text/plain": [
              "2490484.6527523696"
            ]
          },
          "metadata": {},
          "execution_count": 319
        }
      ]
    }
  ]
}